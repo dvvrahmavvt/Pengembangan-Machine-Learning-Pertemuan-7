{
  "nbformat": 4,
  "nbformat_minor": 0,
  "metadata": {
    "colab": {
      "provenance": []
    },
    "kernelspec": {
      "name": "python3",
      "display_name": "Python 3"
    },
    "language_info": {
      "name": "python"
    }
  },
  "cells": [
    {
      "cell_type": "markdown",
      "source": [
        "PERTEMUAN 7 PENGEMBANGAN MACHINE LEARNING"
      ],
      "metadata": {
        "id": "Z4S5F0MhSoDA"
      }
    },
    {
      "cell_type": "markdown",
      "source": [
        "Membangun Dashboard Interaktif"
      ],
      "metadata": {
        "id": "exE-dpn5Ssgo"
      }
    },
    {
      "cell_type": "code",
      "source": [
        "from google.colab import drive\n",
        "drive.mount('/content/drive')"
      ],
      "metadata": {
        "colab": {
          "base_uri": "https://localhost:8080/"
        },
        "id": "7ZCSS-s7SSiz",
        "outputId": "4f6d059a-84ca-4c6b-9650-4328a65b64e1"
      },
      "execution_count": 1,
      "outputs": [
        {
          "output_type": "stream",
          "name": "stdout",
          "text": [
            "Mounted at /content/drive\n"
          ]
        }
      ]
    },
    {
      "cell_type": "code",
      "source": [
        "!mkdir Pengembangan_Machine_Learning7"
      ],
      "metadata": {
        "id": "6Cc6GcunSUBE"
      },
      "execution_count": 2,
      "outputs": []
    },
    {
      "cell_type": "code",
      "source": [
        "cd Pengembangan_Machine_Learning7"
      ],
      "metadata": {
        "colab": {
          "base_uri": "https://localhost:8080/"
        },
        "id": "WsDsKMPNSTzh",
        "outputId": "5230ed80-571c-41ab-816e-83cf1c642024"
      },
      "execution_count": 3,
      "outputs": [
        {
          "output_type": "stream",
          "name": "stdout",
          "text": [
            "/content/Pengembangan_Machine_Learning7\n"
          ]
        }
      ]
    },
    {
      "cell_type": "code",
      "source": [
        "!pwd"
      ],
      "metadata": {
        "colab": {
          "base_uri": "https://localhost:8080/"
        },
        "id": "hqRrsUgDT55e",
        "outputId": "303ddd2e-6023-4ad3-bcba-42ccde4eeb7d"
      },
      "execution_count": 4,
      "outputs": [
        {
          "output_type": "stream",
          "name": "stdout",
          "text": [
            "/content/Pengembangan_Machine_Learning7\n"
          ]
        }
      ]
    },
    {
      "cell_type": "code",
      "source": [
        "%%writefile requirements.txt\n",
        "streamlit\n",
        "pandas\n",
        "seaborn"
      ],
      "metadata": {
        "colab": {
          "base_uri": "https://localhost:8080/"
        },
        "id": "BFv_ZtgCUObm",
        "outputId": "ba34a3db-96ad-4040-b2a6-e5fa1a83ada8"
      },
      "execution_count": 5,
      "outputs": [
        {
          "output_type": "stream",
          "name": "stdout",
          "text": [
            "Writing requirements.txt\n"
          ]
        }
      ]
    },
    {
      "cell_type": "code",
      "source": [
        "!ls"
      ],
      "metadata": {
        "colab": {
          "base_uri": "https://localhost:8080/"
        },
        "id": "sb5c8y3VUY5I",
        "outputId": "74282fe0-2da0-4abb-d97a-b5e0e3a4e126"
      },
      "execution_count": 6,
      "outputs": [
        {
          "output_type": "stream",
          "name": "stdout",
          "text": [
            "requirements.txt\n"
          ]
        }
      ]
    },
    {
      "cell_type": "code",
      "source": [
        "!cat requirements.txt"
      ],
      "metadata": {
        "colab": {
          "base_uri": "https://localhost:8080/"
        },
        "id": "UOSuzq6rUbDw",
        "outputId": "0555570f-f875-4533-ae9c-ce6d7c17405d"
      },
      "execution_count": 7,
      "outputs": [
        {
          "output_type": "stream",
          "name": "stdout",
          "text": [
            "streamlit\n",
            "pandas\n",
            "seaborn\n"
          ]
        }
      ]
    },
    {
      "cell_type": "code",
      "source": [
        "!pip install -q -r requirements.txt"
      ],
      "metadata": {
        "colab": {
          "base_uri": "https://localhost:8080/"
        },
        "id": "9RbZfTSGUdO9",
        "outputId": "c8356e08-bd09-48d1-fa90-89dcdddbf116"
      },
      "execution_count": 8,
      "outputs": [
        {
          "output_type": "stream",
          "name": "stdout",
          "text": [
            "\u001b[2K     \u001b[90m━━━━━━━━━━━━━━━━━━━━━━━━━━━━━━━━━━━━━━━━\u001b[0m \u001b[32m44.3/44.3 kB\u001b[0m \u001b[31m1.8 MB/s\u001b[0m eta \u001b[36m0:00:00\u001b[0m\n",
            "\u001b[2K   \u001b[90m━━━━━━━━━━━━━━━━━━━━━━━━━━━━━━━━━━━━━━━━\u001b[0m \u001b[32m9.9/9.9 MB\u001b[0m \u001b[31m66.9 MB/s\u001b[0m eta \u001b[36m0:00:00\u001b[0m\n",
            "\u001b[2K   \u001b[90m━━━━━━━━━━━━━━━━━━━━━━━━━━━━━━━━━━━━━━━━\u001b[0m \u001b[32m6.9/6.9 MB\u001b[0m \u001b[31m97.9 MB/s\u001b[0m eta \u001b[36m0:00:00\u001b[0m\n",
            "\u001b[2K   \u001b[90m━━━━━━━━━━━━━━━━━━━━━━━━━━━━━━━━━━━━━━━━\u001b[0m \u001b[32m79.1/79.1 kB\u001b[0m \u001b[31m6.4 MB/s\u001b[0m eta \u001b[36m0:00:00\u001b[0m\n",
            "\u001b[?25h"
          ]
        }
      ]
    },
    {
      "cell_type": "code",
      "source": [
        "!pip list | grep streamlit"
      ],
      "metadata": {
        "colab": {
          "base_uri": "https://localhost:8080/"
        },
        "id": "WXXilHioUftf",
        "outputId": "ab466640-5bf8-4b03-f230-4f6ca6eb47d3"
      },
      "execution_count": 9,
      "outputs": [
        {
          "output_type": "stream",
          "name": "stdout",
          "text": [
            "streamlit                             1.45.0\n"
          ]
        }
      ]
    },
    {
      "cell_type": "code",
      "source": [
        "!pip install streamlit -q"
      ],
      "metadata": {
        "id": "tkqTYKzJUhxD"
      },
      "execution_count": 10,
      "outputs": []
    },
    {
      "cell_type": "code",
      "source": [
        "%%writefile Home.py\n",
        "import streamlit as st\n",
        "\n",
        "# Judul halaman\n",
        "st.title(\"📊 Dashboard Interaktif - Tugas Pertemuan 7\")\n",
        "st.subheader(\"Pengembangan Aplikasi Web Berbasis Streamlit\")\n",
        "\n",
        "# Deskripsi tugas\n",
        "st.markdown(\"\"\"\n",
        "Selamat datang di aplikasi web interaktif ini! 🎉\n",
        "\n",
        "Aplikasi ini dibuat sebagai bagian dari **Tugas Pertemuan 7** yang diberikan pada mata kuliah *Pengembangan Aplikasi Web Interaktif*. Tujuan dari tugas ini adalah:\n",
        "\n",
        "- ✅ Membuat **dashboard interaktif** menggunakan Streamlit.\n",
        "- 🌍 Mengambil data dari **dataset publik** (CSV melalui URL atau API).\n",
        "- 📈 Menyajikan **visualisasi data** dalam bentuk grafik, tabel, dan metrik.\n",
        "- 🎛️ Menyediakan komponen **interaktif** seperti filter, selectbox, atau slider.\n",
        "---\n",
        "\n",
        "## 📂 Navigasi\n",
        "\n",
        "Gunakan sidebar di kiri layar untuk memilih tampilan dashboard dan mulai menjelajahi data publik yang telah disediakan.\n",
        "\n",
        "Terima kasih sudah mengunjungi!\n",
        "\"\"\")\n"
      ],
      "metadata": {
        "colab": {
          "base_uri": "https://localhost:8080/"
        },
        "id": "TmnW3POuVuTP",
        "outputId": "35c13176-3bb2-41f4-f427-820ef7f9baa2"
      },
      "execution_count": 21,
      "outputs": [
        {
          "output_type": "stream",
          "name": "stdout",
          "text": [
            "Writing Home.py\n"
          ]
        }
      ]
    },
    {
      "cell_type": "code",
      "source": [
        "pwd"
      ],
      "metadata": {
        "colab": {
          "base_uri": "https://localhost:8080/",
          "height": 35
        },
        "id": "tRSUHPlcVzqP",
        "outputId": "076b9700-470b-4fdd-e739-ee63e7697026"
      },
      "execution_count": 22,
      "outputs": [
        {
          "output_type": "execute_result",
          "data": {
            "text/plain": [
              "'/content/Pengembangan_Machine_Learning7'"
            ],
            "application/vnd.google.colaboratory.intrinsic+json": {
              "type": "string"
            }
          },
          "metadata": {},
          "execution_count": 22
        }
      ]
    },
    {
      "cell_type": "code",
      "source": [
        "!ls"
      ],
      "metadata": {
        "colab": {
          "base_uri": "https://localhost:8080/"
        },
        "id": "vV9jCZNOV3Af",
        "outputId": "a82a30e6-642b-4293-887b-6111778c50da"
      },
      "execution_count": 23,
      "outputs": [
        {
          "output_type": "stream",
          "name": "stdout",
          "text": [
            "Home.py  node_modules  package-lock.json  requirements.txt\n",
            "images\t package.json  pages\n"
          ]
        }
      ]
    },
    {
      "cell_type": "code",
      "source": [
        "!mkdir pages"
      ],
      "metadata": {
        "id": "vKi53cdnR8iR"
      },
      "execution_count": 12,
      "outputs": []
    },
    {
      "cell_type": "code",
      "source": [
        "!ls"
      ],
      "metadata": {
        "colab": {
          "base_uri": "https://localhost:8080/"
        },
        "id": "EhXwgK2SVCbv",
        "outputId": "ffe5bf2c-9cfe-4fd4-8f5a-a68e226527e7"
      },
      "execution_count": 13,
      "outputs": [
        {
          "output_type": "stream",
          "name": "stdout",
          "text": [
            "images\tpages  requirements.txt\n"
          ]
        }
      ]
    },
    {
      "cell_type": "code",
      "source": [
        "!ls pages"
      ],
      "metadata": {
        "id": "MfgTp4D9VE2g"
      },
      "execution_count": 14,
      "outputs": []
    },
    {
      "cell_type": "markdown",
      "source": [
        "Latihan Pertemuan 7"
      ],
      "metadata": {
        "id": "751z-tnlSG0X"
      }
    },
    {
      "cell_type": "code",
      "source": [
        "%%writefile pages/Latihan_Pertemuan_7.py\n",
        "import streamlit as st\n",
        "import pandas as pd\n",
        "import matplotlib.pyplot as plt\n",
        "import seaborn as sns\n",
        "\n",
        "# Membaca data dari file CSV\n",
        "df = pd.read_csv('/content/drive/MyDrive/Colab Notebooks/Pengembangan ML (6)/Dataset Latihan Pertemuan 5/nutrition.csv')\n",
        "\n",
        "# Judul aplikasi\n",
        "st.title('Dashboard Nutrisi')\n",
        "\n",
        "# Sidebar Navigasi\n",
        "tabs = st.sidebar.radio(\"Pilih Tab\", [\"Tabel\", \"Grafik\", \"Metric\", \"Grafik Distribusi\"])\n",
        "\n",
        "# Tab Tabel\n",
        "if tabs == \"Tabel\":\n",
        "    st.header(\"Tabel Data Nutrisi\")\n",
        "    st.write(df)\n",
        "\n",
        "# Tab Grafik\n",
        "elif tabs == \"Grafik\":\n",
        "    st.header(\"Grafik Nutrisi\")\n",
        "    nutrisi = ['calories', 'proteins', 'fat', 'carbohydrate']\n",
        "    st.subheader(\"Grafik Bar Rata-rata Nutrisi\")\n",
        "    fig, ax = plt.subplots(figsize=(10, 6))\n",
        "    df[nutrisi].mean().plot(kind='bar', ax=ax, color='skyblue')\n",
        "    ax.set_title('Rata-rata Nilai Nutrisi')\n",
        "    ax.set_xlabel('Jenis Nutrisi')\n",
        "    ax.set_ylabel('Rata-rata')\n",
        "    st.pyplot(fig)\n",
        "\n",
        "# Tab Metric\n",
        "elif tabs == \"Metric\":\n",
        "    st.header(\"Indikator Nutrisi\")\n",
        "    st.subheader(\"Rata-rata Nilai Nutrisi\")\n",
        "    st.metric(\"Kalori Rata-rata\", f\"{df['calories'].mean():.2f} kcal\")\n",
        "    st.metric(\"Lemak Rata-rata\", f\"{df['fat'].mean():.2f} g\")\n",
        "    st.metric(\"Karbohidrat Rata-rata\", f\"{df['carbohydrate'].mean():.2f} g\")\n",
        "    st.metric(\"Protein Rata-rata\", f\"{df['proteins'].mean():.2f} g\")\n",
        "\n",
        "# Tab Grafik Distribusi\n",
        "elif tabs == \"Grafik Distribusi\":\n",
        "    st.header(\"Distribusi Nutrisi\")\n",
        "    st.subheader(\"Distribusi Kalori\")\n",
        "    fig, ax = plt.subplots(figsize=(10, 6))\n",
        "    sns.histplot(df['calories'], kde=True, ax=ax, color='purple')\n",
        "    ax.set_title('Distribusi Kalori')\n",
        "    ax.set_xlabel('Kalori')\n",
        "    ax.set_ylabel('Frekuensi')\n",
        "    st.pyplot(fig)"
      ],
      "metadata": {
        "colab": {
          "base_uri": "https://localhost:8080/"
        },
        "id": "QzszjIxTR8Vx",
        "outputId": "77055a7c-3f05-4001-9973-afb141caa6f4"
      },
      "execution_count": 15,
      "outputs": [
        {
          "output_type": "stream",
          "name": "stdout",
          "text": [
            "Writing pages/Latihan_Pertemuan_7.py\n"
          ]
        }
      ]
    },
    {
      "cell_type": "markdown",
      "source": [
        "Tugas 7 Membuat dashboard"
      ],
      "metadata": {
        "id": "QGNK6BEMR_y5"
      }
    },
    {
      "cell_type": "code",
      "source": [
        "!pip install altair\n",
        "!pip install plotly"
      ],
      "metadata": {
        "colab": {
          "base_uri": "https://localhost:8080/"
        },
        "id": "1G8c1ip9R8G2",
        "outputId": "d630ab74-fd8d-45d4-d07a-e5be79771db0"
      },
      "execution_count": 17,
      "outputs": [
        {
          "output_type": "stream",
          "name": "stdout",
          "text": [
            "Requirement already satisfied: altair in /usr/local/lib/python3.11/dist-packages (5.5.0)\n",
            "Requirement already satisfied: jinja2 in /usr/local/lib/python3.11/dist-packages (from altair) (3.1.6)\n",
            "Requirement already satisfied: jsonschema>=3.0 in /usr/local/lib/python3.11/dist-packages (from altair) (4.23.0)\n",
            "Requirement already satisfied: narwhals>=1.14.2 in /usr/local/lib/python3.11/dist-packages (from altair) (1.37.1)\n",
            "Requirement already satisfied: packaging in /usr/local/lib/python3.11/dist-packages (from altair) (24.2)\n",
            "Requirement already satisfied: typing-extensions>=4.10.0 in /usr/local/lib/python3.11/dist-packages (from altair) (4.13.2)\n",
            "Requirement already satisfied: attrs>=22.2.0 in /usr/local/lib/python3.11/dist-packages (from jsonschema>=3.0->altair) (25.3.0)\n",
            "Requirement already satisfied: jsonschema-specifications>=2023.03.6 in /usr/local/lib/python3.11/dist-packages (from jsonschema>=3.0->altair) (2025.4.1)\n",
            "Requirement already satisfied: referencing>=0.28.4 in /usr/local/lib/python3.11/dist-packages (from jsonschema>=3.0->altair) (0.36.2)\n",
            "Requirement already satisfied: rpds-py>=0.7.1 in /usr/local/lib/python3.11/dist-packages (from jsonschema>=3.0->altair) (0.24.0)\n",
            "Requirement already satisfied: MarkupSafe>=2.0 in /usr/local/lib/python3.11/dist-packages (from jinja2->altair) (3.0.2)\n",
            "Requirement already satisfied: plotly in /usr/local/lib/python3.11/dist-packages (5.24.1)\n",
            "Requirement already satisfied: tenacity>=6.2.0 in /usr/local/lib/python3.11/dist-packages (from plotly) (9.1.2)\n",
            "Requirement already satisfied: packaging in /usr/local/lib/python3.11/dist-packages (from plotly) (24.2)\n"
          ]
        }
      ]
    },
    {
      "cell_type": "code",
      "execution_count": 18,
      "metadata": {
        "colab": {
          "base_uri": "https://localhost:8080/"
        },
        "id": "u9nxFoFFRgg_",
        "outputId": "ce223c56-ca08-4cd7-bc06-9f36c3233a9c"
      },
      "outputs": [
        {
          "output_type": "stream",
          "name": "stdout",
          "text": [
            "Writing pages/Tugas_Pertemuan_7.py\n"
          ]
        }
      ],
      "source": [
        "%%writefile pages/Tugas_Pertemuan_7.py\n",
        "import streamlit as st\n",
        "import pandas as pd\n",
        "import matplotlib.pyplot as plt\n",
        "import seaborn as sns\n",
        "import plotly.express as px\n",
        "\n",
        "st.set_page_config(layout=\"wide\")\n",
        "\n",
        "# Judul Dashboard\n",
        "st.title(\"📊 Dashboard Interaktif - Dataset Penerbangan\")\n",
        "st.markdown(\"Visualisasi performa penerbangan: delay, jarak, dan analisis lainnya\")\n",
        "\n",
        "# Load dataset\n",
        "file_path = '/content/drive/MyDrive/Colab Notebooks/SISTEM CERDAS/Dataset/BTS_Desember.csv'\n",
        "try:\n",
        "    df = pd.read_csv(file_path)\n",
        "except FileNotFoundError:\n",
        "    st.error(f\"Gagal memuat data dari {file_path}.\")\n",
        "    st.stop()\n",
        "\n",
        "# Ubah kolom tanggal ke format datetime\n",
        "df['FL_DATE'] = pd.to_datetime(df['FL_DATE'], errors='coerce')\n",
        "\n",
        "# Sidebar Filter\n",
        "st.sidebar.header(\"📌 Filter Data\")\n",
        "\n",
        "origins = df['ORIGIN'].dropna().unique().tolist()\n",
        "destinations = df['DEST'].dropna().unique().tolist()\n",
        "\n",
        "selected_origin = st.sidebar.multiselect(\"Pilih Bandara Asal (ORIGIN)\", options=origins, default=origins)\n",
        "selected_dest = st.sidebar.multiselect(\"Pilih Bandara Tujuan (DEST)\", options=destinations, default=destinations)\n",
        "min_date, max_date = df['FL_DATE'].min(), df['FL_DATE'].max()\n",
        "date_range = st.sidebar.date_input(\"Rentang Tanggal\", [min_date, max_date])\n",
        "\n",
        "# Filter Data\n",
        "filtered_df = df[\n",
        "    (df['ORIGIN'].isin(selected_origin)) &\n",
        "    (df['DEST'].isin(selected_dest)) &\n",
        "    (df['FL_DATE'] >= pd.to_datetime(date_range[0])) &\n",
        "    (df['FL_DATE'] <= pd.to_datetime(date_range[1]))\n",
        "]\n",
        "\n",
        "st.write(\"### 📄 Data Tersaring\")\n",
        "st.dataframe(filtered_df)\n",
        "\n",
        "# Grafik 1: Tren Rata-rata Delay Kedatangan\n",
        "st.subheader(\"📈 Rata-rata Delay Kedatangan per Hari\")\n",
        "if not filtered_df.empty:\n",
        "    delay_trend = filtered_df.groupby('FL_DATE')['ARR_DELAY_NEW'].mean().reset_index()\n",
        "    fig1 = px.line(delay_trend, x='FL_DATE', y='ARR_DELAY_NEW',\n",
        "                   title=\"Rata-rata Delay Kedatangan Harian (menit)\",\n",
        "                   labels={'FL_DATE': 'Tanggal', 'ARR_DELAY_NEW': 'Delay (menit)'})\n",
        "    st.plotly_chart(fig1, use_container_width=True)\n",
        "else:\n",
        "    st.warning(\"Tidak ada data sesuai filter.\")\n",
        "\n",
        "# Grafik 2: Distribusi Jarak Penerbangan\n",
        "st.subheader(\"📊 Distribusi Jarak Penerbangan\")\n",
        "fig2, ax2 = plt.subplots(figsize=(10, 4))\n",
        "sns.histplot(filtered_df['DISTANCE'], kde=True, bins=30, color='salmon', ax=ax2)\n",
        "ax2.set_xlabel(\"Jarak (miles)\")\n",
        "ax2.set_ylabel(\"Frekuensi\")\n",
        "st.pyplot(fig2)\n",
        "\n",
        "# Grafik 3: Korelasi Jarak vs Delay\n",
        "st.subheader(\"🔍 Korelasi Jarak vs Delay Kedatangan\")\n",
        "fig3, ax3 = plt.subplots(figsize=(8, 5))\n",
        "sns.scatterplot(data=filtered_df, x='DISTANCE', y='ARR_DELAY_NEW', hue='OP_UNIQUE_CARRIER', ax=ax3)\n",
        "ax3.set_xlabel(\"Jarak Penerbangan (miles)\")\n",
        "ax3.set_ylabel(\"Delay Kedatangan (menit)\")\n",
        "st.pyplot(fig3)\n",
        "\n",
        "# Grafik 4: Total Penerbangan per Maskapai\n",
        "st.subheader(\"🛫 Jumlah Penerbangan per Maskapai\")\n",
        "carrier_counts = filtered_df['OP_UNIQUE_CARRIER'].value_counts().sort_values(ascending=False)\n",
        "fig4 = px.bar(x=carrier_counts.index, y=carrier_counts.values,\n",
        "              labels={'x': 'Maskapai', 'y': 'Jumlah Penerbangan'},\n",
        "              title=\"Total Penerbangan per Maskapai\")\n",
        "st.plotly_chart(fig4, use_container_width=True)\n",
        "\n",
        "# Grafik 5: Persentase Pembatalan Penerbangan\n",
        "st.subheader(\"❌ Proporsi Penerbangan yang Dibatalkan\")\n",
        "cancel_counts = filtered_df['CANCELLED'].value_counts()\n",
        "cancel_labels = ['Tidak Dibatalkan', 'Dibatalkan']\n",
        "fig5 = px.pie(values=cancel_counts.values, names=cancel_labels, title=\"Distribusi Pembatalan Penerbangan\")\n",
        "st.plotly_chart(fig5, use_container_width=True)\n",
        "\n",
        "# Tabel: Rekomendasi Maskapai dengan Rata-rata Delay Tinggi\n",
        "st.subheader(\"⚠️ Maskapai dengan Rata-rata Delay Kedatangan Tertinggi\")\n",
        "top_delayed = filtered_df.groupby('OP_UNIQUE_CARRIER')['ARR_DELAY_NEW'].mean().sort_values(ascending=False).head(10)\n",
        "st.dataframe(top_delayed.reset_index().rename(columns={\n",
        "    'OP_UNIQUE_CARRIER': 'Maskapai',\n",
        "    'ARR_DELAY_NEW': 'Rata-rata Delay (menit)'\n",
        "}))\n"
      ]
    },
    {
      "cell_type": "code",
      "source": [
        "!pip install altair\n",
        "!pip install plotly"
      ],
      "metadata": {
        "colab": {
          "base_uri": "https://localhost:8080/"
        },
        "id": "1ThZ61U8R3rN",
        "outputId": "7cdc2e63-74c0-4e71-d04d-2c00d40c28c1"
      },
      "execution_count": 19,
      "outputs": [
        {
          "output_type": "stream",
          "name": "stdout",
          "text": [
            "Requirement already satisfied: altair in /usr/local/lib/python3.11/dist-packages (5.5.0)\n",
            "Requirement already satisfied: jinja2 in /usr/local/lib/python3.11/dist-packages (from altair) (3.1.6)\n",
            "Requirement already satisfied: jsonschema>=3.0 in /usr/local/lib/python3.11/dist-packages (from altair) (4.23.0)\n",
            "Requirement already satisfied: narwhals>=1.14.2 in /usr/local/lib/python3.11/dist-packages (from altair) (1.37.1)\n",
            "Requirement already satisfied: packaging in /usr/local/lib/python3.11/dist-packages (from altair) (24.2)\n",
            "Requirement already satisfied: typing-extensions>=4.10.0 in /usr/local/lib/python3.11/dist-packages (from altair) (4.13.2)\n",
            "Requirement already satisfied: attrs>=22.2.0 in /usr/local/lib/python3.11/dist-packages (from jsonschema>=3.0->altair) (25.3.0)\n",
            "Requirement already satisfied: jsonschema-specifications>=2023.03.6 in /usr/local/lib/python3.11/dist-packages (from jsonschema>=3.0->altair) (2025.4.1)\n",
            "Requirement already satisfied: referencing>=0.28.4 in /usr/local/lib/python3.11/dist-packages (from jsonschema>=3.0->altair) (0.36.2)\n",
            "Requirement already satisfied: rpds-py>=0.7.1 in /usr/local/lib/python3.11/dist-packages (from jsonschema>=3.0->altair) (0.24.0)\n",
            "Requirement already satisfied: MarkupSafe>=2.0 in /usr/local/lib/python3.11/dist-packages (from jinja2->altair) (3.0.2)\n",
            "Requirement already satisfied: plotly in /usr/local/lib/python3.11/dist-packages (5.24.1)\n",
            "Requirement already satisfied: tenacity>=6.2.0 in /usr/local/lib/python3.11/dist-packages (from plotly) (9.1.2)\n",
            "Requirement already satisfied: packaging in /usr/local/lib/python3.11/dist-packages (from plotly) (24.2)\n"
          ]
        }
      ]
    },
    {
      "cell_type": "code",
      "source": [
        "!npm install localtunnel"
      ],
      "metadata": {
        "colab": {
          "base_uri": "https://localhost:8080/"
        },
        "id": "jXFSpaBrRm7u",
        "outputId": "495b8fab-ec43-4917-9e20-38cfeb32bf34"
      },
      "execution_count": 20,
      "outputs": [
        {
          "output_type": "stream",
          "name": "stdout",
          "text": [
            "\u001b[1G\u001b[0K⠙\u001b[1G\u001b[0K⠹\u001b[1G\u001b[0K⠸\u001b[1G\u001b[0K⠼\u001b[1G\u001b[0K⠴\u001b[1G\u001b[0K⠦\u001b[1G\u001b[0K⠧\u001b[1G\u001b[0K⠇\u001b[1G\u001b[0K⠏\u001b[1G\u001b[0K⠋\u001b[1G\u001b[0K⠙\u001b[1G\u001b[0K⠹\u001b[1G\u001b[0K⠸\u001b[1G\u001b[0K⠼\u001b[1G\u001b[0K⠴\u001b[1G\u001b[0K⠦\u001b[1G\u001b[0K⠧\u001b[1G\u001b[0K⠇\u001b[1G\u001b[0K⠏\u001b[1G\u001b[0K⠋\u001b[1G\u001b[0K⠙\u001b[1G\u001b[0K⠹\u001b[1G\u001b[0K⠸\u001b[1G\u001b[0K⠼\u001b[1G\u001b[0K⠴\u001b[1G\u001b[0K⠦\u001b[1G\u001b[0K⠧\u001b[1G\u001b[0K⠇\u001b[1G\u001b[0K⠏\u001b[1G\u001b[0K⠋\u001b[1G\u001b[0K⠙\u001b[1G\u001b[0K⠹\u001b[1G\u001b[0K⠸\u001b[1G\u001b[0K⠼\u001b[1G\u001b[0K⠴\u001b[1G\u001b[0K⠦\u001b[1G\u001b[0K⠧\u001b[1G\u001b[0K⠇\u001b[1G\u001b[0K⠏\u001b[1G\u001b[0K⠋\u001b[1G\u001b[0K⠙\u001b[1G\u001b[0K\n",
            "added 22 packages in 6s\n",
            "\u001b[1G\u001b[0K⠙\u001b[1G\u001b[0K\n",
            "\u001b[1G\u001b[0K⠙\u001b[1G\u001b[0K3 packages are looking for funding\n",
            "\u001b[1G\u001b[0K⠙\u001b[1G\u001b[0K  run `npm fund` for details\n",
            "\u001b[1G\u001b[0K⠙\u001b[1G\u001b[0K"
          ]
        }
      ]
    },
    {
      "cell_type": "code",
      "source": [
        "#Kalo ada yg error atau modifikasi, berhentiin dulu tunnelnya. Run sel yg mau dimodifikasi. Baru run lagi dari sini sampe muncul link tunnel yg baru.\n",
        "!streamlit run /content/Pengembangan_Machine_Learning7/Home.py &>/content/Pengembangan_Machine_Learning7/logs.txt &"
      ],
      "metadata": {
        "id": "WEMqf6MGRo-m"
      },
      "execution_count": 25,
      "outputs": []
    },
    {
      "cell_type": "code",
      "source": [
        "!timeout 30 cat /content/Pengembangan_Machine_Learning7/logs.txt"
      ],
      "metadata": {
        "colab": {
          "base_uri": "https://localhost:8080/"
        },
        "id": "eVgl7xPlRq-k",
        "outputId": "90b371cc-ac73-48cc-8348-34b845b88a2b"
      },
      "execution_count": 26,
      "outputs": [
        {
          "output_type": "stream",
          "name": "stdout",
          "text": [
            "\n",
            "Collecting usage statistics. To deactivate, set browser.gatherUsageStats to false.\n",
            "\n",
            "\n",
            "  You can now view your Streamlit app in your browser.\n",
            "\n",
            "  Local URL: http://localhost:8501\n",
            "  Network URL: http://172.28.0.12:8501\n",
            "  External URL: http://34.148.164.61:8501\n",
            "\n"
          ]
        }
      ]
    },
    {
      "cell_type": "code",
      "source": [
        "import requests\n",
        "requests.get('https://api.ipify.org').text"
      ],
      "metadata": {
        "colab": {
          "base_uri": "https://localhost:8080/",
          "height": 35
        },
        "id": "bYcDE2AJRscI",
        "outputId": "8cd6ec44-4c85-4110-94be-352fb71f8914"
      },
      "execution_count": 27,
      "outputs": [
        {
          "output_type": "execute_result",
          "data": {
            "text/plain": [
              "'34.148.164.61'"
            ],
            "application/vnd.google.colaboratory.intrinsic+json": {
              "type": "string"
            }
          },
          "metadata": {},
          "execution_count": 27
        }
      ]
    },
    {
      "cell_type": "code",
      "source": [
        "!npx localtunnel --port 8501"
      ],
      "metadata": {
        "colab": {
          "base_uri": "https://localhost:8080/"
        },
        "id": "Jfy4TbLmRt2q",
        "outputId": "e142358d-5e15-4d23-8878-9d6291384250"
      },
      "execution_count": 28,
      "outputs": [
        {
          "output_type": "stream",
          "name": "stdout",
          "text": [
            "\u001b[1G\u001b[0K⠙\u001b[1G\u001b[0Kyour url is: https://dark-singers-study.loca.lt\n",
            "^C\n"
          ]
        }
      ]
    }
  ]
}